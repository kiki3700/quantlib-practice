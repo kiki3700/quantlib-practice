{
 "cells": [
  {
   "cell_type": "code",
   "execution_count": 2,
   "id": "d45ac648",
   "metadata": {},
   "outputs": [],
   "source": [
    "import QuantLib as ql"
   ]
  },
  {
   "cell_type": "code",
   "execution_count": 3,
   "id": "9802e2d4",
   "metadata": {
    "collapsed": true
   },
   "outputs": [],
   "source": [
    "korea = ql.SouthKorea()\n",
    "date = ql.Date(17,8,2020)\n",
    "korea.addHoliday(date)"
   ]
  },
  {
   "cell_type": "code",
   "execution_count": 13,
   "id": "8fe18ff9",
   "metadata": {},
   "outputs": [
    {
     "data": {
      "text/plain": [
       "Date(27,4,2021)"
      ]
     },
     "execution_count": 13,
     "metadata": {},
     "output_type": "execute_result"
    }
   ],
   "source": [
    "date2 = ql.Date(27,7,2020)\n",
    "period = ql.Period(9,ql.Months)\n",
    "korea.advance(date2, period, ql.ModifiedFollowing)"
   ]
  },
  {
   "cell_type": "code",
   "execution_count": 11,
   "id": "cf2b2b3e",
   "metadata": {},
   "outputs": [
    {
     "data": {
      "text/plain": [
       "54"
      ]
     },
     "execution_count": 11,
     "metadata": {},
     "output_type": "execute_result"
    }
   ],
   "source": [
    "date1 =ql.Date(1,8,2020)\n",
    "date2 = ql.Date(20,10,2020)\n",
    "usa = ql.UnitedStates()\n",
    "eu = ql.TARGET()\n",
    "combi = ql.JointCalendar(usa,eu)\n",
    "combi.businessDaysBetween(date1,date2)"
   ]
  },
  {
   "cell_type": "code",
   "execution_count": null,
   "id": "5f7e47df",
   "metadata": {},
   "outputs": [],
   "source": []
  }
 ],
 "metadata": {
  "kernelspec": {
   "display_name": "Python 3",
   "language": "python",
   "name": "python3"
  },
  "language_info": {
   "codemirror_mode": {
    "name": "ipython",
    "version": 3
   },
   "file_extension": ".py",
   "mimetype": "text/x-python",
   "name": "python",
   "nbconvert_exporter": "python",
   "pygments_lexer": "ipython3",
   "version": "3.8.8"
  }
 },
 "nbformat": 4,
 "nbformat_minor": 5
}
