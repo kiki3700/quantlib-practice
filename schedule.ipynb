{
 "cells": [
  {
   "cell_type": "code",
   "execution_count": 1,
   "id": "1a89fe37",
   "metadata": {},
   "outputs": [],
   "source": [
    "import QuantLib as ql"
   ]
  },
  {
   "cell_type": "code",
   "execution_count": 7,
   "id": "1a577432",
   "metadata": {},
   "outputs": [],
   "source": [
    "effectiveDate = ql.Date(1,1,2020)\n",
    "maturityDate = ql.Date(31,12,2020)\n",
    "tenor = ql.Period(3,ql.Months)\n",
    "kr = ql.SouthKorea()\n",
    "convention = ql.ModifiedFollowing\n",
    "dateGeneration = ql.DateGeneration.Backward\n",
    "endOfMonth = False\n",
    "\n",
    "schedule = ql.Schedule(effectiveDate,\n",
    "                      maturityDate,\n",
    "                      tenor,\n",
    "                      kr,\n",
    "                      convention,\n",
    "                      convention,\n",
    "                      dateGeneration,\n",
    "                      endOfMonth)"
   ]
  },
  {
   "cell_type": "code",
   "execution_count": 9,
   "id": "0b86fd34",
   "metadata": {},
   "outputs": [
    {
     "name": "stdout",
     "output_type": "stream",
     "text": [
      "September 29th, 2020\n",
      "June 30th, 2020\n"
     ]
    }
   ],
   "source": [
    "date = ql.Date(3,7,2020)\n",
    "print(schedule.nextDate(date))\n",
    "print(schedule.previousDate(date))"
   ]
  },
  {
   "cell_type": "code",
   "execution_count": 14,
   "id": "11668af6",
   "metadata": {},
   "outputs": [],
   "source": [
    "effectiveDate = ql.Date(10,9,2020)\n",
    "maturityDate = ql.Date(13,9,2023)\n",
    "tenor = ql.Period(ql.Semiannual)\n",
    "hk = ql.HongKong()\n",
    "convention = ql.ModifiedFollowing\n",
    "dateGeneration = ql.DateGeneration.ThirdWednesday\n",
    "endOfMonth = False\n",
    "\n",
    "schedule=ql.Schedule(effectiveDate,\n",
    "                    maturityDate,\n",
    "                    tenor,\n",
    "                    hk,\n",
    "                    convention,\n",
    "                    convention,\n",
    "                    dateGeneration,\n",
    "                    endOfMonth)\n"
   ]
  },
  {
   "cell_type": "code",
   "execution_count": 15,
   "id": "cd5b45b4",
   "metadata": {},
   "outputs": [
    {
     "name": "stdout",
     "output_type": "stream",
     "text": [
      "September 15th, 2021\n"
     ]
    }
   ],
   "source": [
    "date = ql.Date(5,7,2021)\n",
    "print(schedule.nextDate(date))"
   ]
  },
  {
   "cell_type": "code",
   "execution_count": 16,
   "id": "77edd517",
   "metadata": {},
   "outputs": [
    {
     "name": "stdout",
     "output_type": "stream",
     "text": [
      "March 16th, 2022\n"
     ]
    }
   ],
   "source": [
    "date=ql.Date(3,4,2022)\n",
    "print(schedule.previousDate(date))"
   ]
  },
  {
   "cell_type": "code",
   "execution_count": null,
   "id": "6bb5a242",
   "metadata": {},
   "outputs": [],
   "source": []
  }
 ],
 "metadata": {
  "kernelspec": {
   "display_name": "Python 3",
   "language": "python",
   "name": "python3"
  },
  "language_info": {
   "codemirror_mode": {
    "name": "ipython",
    "version": 3
   },
   "file_extension": ".py",
   "mimetype": "text/x-python",
   "name": "python",
   "nbconvert_exporter": "python",
   "pygments_lexer": "ipython3",
   "version": "3.8.8"
  }
 },
 "nbformat": 4,
 "nbformat_minor": 5
}
