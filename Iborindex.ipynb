{
 "cells": [
  {
   "cell_type": "code",
   "execution_count": 1,
   "id": "c2a177ee",
   "metadata": {},
   "outputs": [],
   "source": [
    "import QuantLib as ql"
   ]
  },
  {
   "cell_type": "markdown",
   "id": "985f36db",
   "metadata": {},
   "source": [
    "name = \"USD_3m_LIBOR\"\n",
    "tenor = ql.period(3, ql.Months)\n",
    "settlementDays = 2\n",
    "current = ql.USDCurrency()\n",
    "us = ql.UnitedStates\n",
    "conventtion = ql.ModifiedFollowing\n",
    "endOfMoth= False\n",
    "dayCounter = ql.ActualActual\n"
   ]
  },
  {
   "cell_type": "code",
   "execution_count": 13,
   "id": "849a420c",
   "metadata": {},
   "outputs": [
    {
     "data": {
      "text/plain": [
       "<QuantLib.QuantLib.IborIndex; proxy of <Swig Object of type 'ext::shared_ptr< IborIndex > *' at 0x7faaa81f83c0> >"
      ]
     },
     "execution_count": 13,
     "metadata": {},
     "output_type": "execute_result"
    }
   ],
   "source": [
    "\n",
    "ql.IborIndex('MyIndex', ql.Period('6m'), 2, ql.EURCurrency(), ql.TARGET(), ql.ModifiedFollowing, True, ql.Actual360())\n",
    "    "
   ]
  },
  {
   "cell_type": "code",
   "execution_count": null,
   "id": "67e0eea5",
   "metadata": {},
   "outputs": [],
   "source": []
  }
 ],
 "metadata": {
  "kernelspec": {
   "display_name": "Python 3",
   "language": "python",
   "name": "python3"
  },
  "language_info": {
   "codemirror_mode": {
    "name": "ipython",
    "version": 3
   },
   "file_extension": ".py",
   "mimetype": "text/x-python",
   "name": "python",
   "nbconvert_exporter": "python",
   "pygments_lexer": "ipython3",
   "version": "3.8.8"
  }
 },
 "nbformat": 4,
 "nbformat_minor": 5
}
