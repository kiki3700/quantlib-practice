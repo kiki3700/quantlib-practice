{
 "cells": [
  {
   "cell_type": "code",
   "execution_count": 1,
   "id": "7209af52",
   "metadata": {},
   "outputs": [],
   "source": [
    "import QuantLib as ql"
   ]
  },
  {
   "cell_type": "code",
   "execution_count": 5,
   "id": "fd7a5c41",
   "metadata": {},
   "outputs": [
    {
     "data": {
      "text/plain": [
       "100000.0"
      ]
     },
     "execution_count": 5,
     "metadata": {},
     "output_type": "execute_result"
    }
   ],
   "source": [
    " stock_price=ql.SimpleQuote(100000)\n",
    "stock_price.value()"
   ]
  },
  {
   "cell_type": "code",
   "execution_count": 10,
   "id": "a18f5e56",
   "metadata": {},
   "outputs": [
    {
     "name": "stdout",
     "output_type": "stream",
     "text": [
      "1.000000 % Actual/Actual (ISDA) Quarterly compounding\n"
     ]
    }
   ],
   "source": [
    "rate =0.01\n",
    "dayCounter = ql.ActualActual()\n",
    "comp = ql.Compounded\n",
    "freq = ql.Quarterly\n",
    "ir = ql.InterestRate(rate, dayCounter, comp, freq)\n",
    "print(ir)"
   ]
  },
  {
   "cell_type": "code",
   "execution_count": 11,
   "id": "0f766fb0",
   "metadata": {},
   "outputs": [
    {
     "name": "stdout",
     "output_type": "stream",
     "text": [
      "0.01\n",
      "1\n",
      "4\n"
     ]
    }
   ],
   "source": [
    "print(ir.rate())\n",
    "print(ir.compounding())\n",
    "print(ir.frequency())"
   ]
  },
  {
   "cell_type": "code",
   "execution_count": 14,
   "id": "8e035e87",
   "metadata": {},
   "outputs": [
    {
     "name": "stdout",
     "output_type": "stream",
     "text": [
      "0.9900621888617394\n",
      "0.9950186876947283\n",
      "1.0100375625390623\n",
      "1.0050062499999999\n"
     ]
    }
   ],
   "source": [
    "date1 =ql.Date(1,7,2020)\n",
    "date2 =ql.Date(31,12,2020)\n",
    "print(ir.discountFactor(1))\n",
    "print(ir.discountFactor(date1,date2))\n",
    "print(ir.compoundFactor(1))\n",
    "print(ir.compoundFactor(date1,date2))\n",
    "   "
   ]
  },
  {
   "cell_type": "code",
   "execution_count": 15,
   "id": "4ee5f0c8",
   "metadata": {},
   "outputs": [
    {
     "name": "stdout",
     "output_type": "stream",
     "text": [
      "2.013267 % Actual/Actual (ISDA) continuous compounding\n"
     ]
    }
   ],
   "source": [
    "date1 =ql.Date(1,7,2020)\n",
    "date2 =ql.Date(31,12,2020)\n",
    "rate = 0.02\n",
    "dayCounter = ql.Actual360()\n",
    "comp = ql.Compounded\n",
    "freq = ql.Annual\n",
    "ir1= ql.InterestRate(rate, dayCounter,comp,freq)\n",
    "dayCounter2 = ql.ActualActual()\n",
    "comp2 = ql.Continuous\n",
    "freq2 = ql.Quarterly\n",
    "\n",
    "print(ir1.equivalentRate(dayCounter2, comp2, freq2, date1, date2))"
   ]
  },
  {
   "cell_type": "code",
   "execution_count": 17,
   "id": "c136871d",
   "metadata": {},
   "outputs": [
    {
     "name": "stdout",
     "output_type": "stream",
     "text": [
      "5.014036 % Actual/Actual (ISDA) Annual compounding\n"
     ]
    }
   ],
   "source": [
    "compoundFactor = 1.05\n",
    "dayCounter = ql.ActualActual()\n",
    "comp = ql.Compounded\n",
    "date1 = ql.Date(1,1,2020)\n",
    "date2 = ql.Date(31,12,2020)\n",
    "rate= 0.02\n",
    "ir= ql.InterestRate(rate, dayCounter, comp, freq)\n",
    "print(ir.impliedRate(compoundFactor,\n",
    "                    dayCounter,\n",
    "                    comp,\n",
    "                    freq,\n",
    "                    date1,\n",
    "                    date2))"
   ]
  },
  {
   "cell_type": "code",
   "execution_count": 31,
   "id": "baead2ba",
   "metadata": {},
   "outputs": [
    {
     "name": "stdout",
     "output_type": "stream",
     "text": [
      "0.9866117262824531\n"
     ]
    }
   ],
   "source": [
    "dayCounter = ql.ActualActual()\n",
    "comp - ql.Compounded\n",
    "rate = 0.01\n",
    "freq = ql.Quarterly\n",
    "date1 = ql.Date(3,8,2020)\n",
    "date2 = ql.Date(9,12,2021)\n",
    "ir = ql.InterestRate(rate,\n",
    "                    dayCounter,\n",
    "                    compa,\n",
    "                    freq)\n",
    "print(ir.discountFactor(date1,date2))"
   ]
  },
  {
   "cell_type": "code",
   "execution_count": 24,
   "id": "78304d5b",
   "metadata": {},
   "outputs": [
    {
     "name": "stdout",
     "output_type": "stream",
     "text": [
      "1.0135699519485684\n"
     ]
    }
   ],
   "source": [
    "freq = ql.Quarterly\n",
    "dayCounter = ql.ActualActual()\n",
    "rate = 0.01\n",
    "comp = ql.Compounded\n",
    "date1 = ql.Date(3,8,2020)\n",
    "date2 = ql.Date(9,12,2021)\n",
    "ir= ql.InterestRate(rate,\n",
    "                   dayCounter,\n",
    "                   comp,\n",
    "                   freq)\n",
    "print(ir.compoundFactor(date1,date2))"
   ]
  },
  {
   "cell_type": "code",
   "execution_count": 26,
   "id": "5f5ff808",
   "metadata": {},
   "outputs": [
    {
     "name": "stdout",
     "output_type": "stream",
     "text": [
      "0.984246 % Actual/360 continuous compounding\n"
     ]
    }
   ],
   "source": [
    "dayCounter = ql.ActualActual()\n",
    "freq = ql.Quarterly\n",
    "comp = ql.Compounded\n",
    "rate = 0.01\n",
    "ir=ql.InterestRate(rate,\n",
    "                  dayCounter,\n",
    "                  comp,\n",
    "                  freq)\n",
    "print(ir.equivalentRate(ql.Actual360(),\n",
    "                        ql.Continuous,\n",
    "                        ql.Semiannual,\n",
    "                        date1,date2\n",
    "                       ))"
   ]
  },
  {
   "cell_type": "raw",
   "id": "a0bcdcf4",
   "metadata": {},
   "source": [
    "date2=ql.Date(10,10,2020)\n",
    "compoundRate = 1.0295\n",
    "dayCounter = ql.Actual360()\n",
    "freq=ql.Semiannual\n",
    "ir=ql.InterestRate(rate,\n",
    "                    day,counter,\n",
    "                    comp,\n",
    "                    freq)\n",
    "print(ir.impliedRate(compounRate,\n",
    "                    dayCounter,\n",
    "                    comp,\n",
    "                    freq,\n",
    "                    date1,\n",
    "                    date2))"
   ]
  },
  {
   "cell_type": "code",
   "execution_count": 33,
   "id": "2ab91a2b",
   "metadata": {},
   "outputs": [
    {
     "name": "stdout",
     "output_type": "stream",
     "text": [
      "15.691686 % Actual/360 Quarterly compounding\n"
     ]
    }
   ],
   "source": [
    "date2=ql.Date(10,10,2020)\n",
    "compoundRate = 1.0295\n",
    "dayCounter = ql.Actual360()\n",
    "freq=ql.Quarterly\n",
    "\n",
    "ir=ql.InterestRate(rate,\n",
    "                    dayCounter,\n",
    "                    comp,\n",
    "                    freq)\n",
    "print(ir.impliedRate(compoundRate,\n",
    "                    dayCounter,\n",
    "                    comp,\n",
    "                    freq,\n",
    "                    date1,\n",
    "                    date2))"
   ]
  },
  {
   "cell_type": "code",
   "execution_count": null,
   "id": "84e45fde",
   "metadata": {},
   "outputs": [],
   "source": []
  }
 ],
 "metadata": {
  "kernelspec": {
   "display_name": "Python 3",
   "language": "python",
   "name": "python3"
  },
  "language_info": {
   "codemirror_mode": {
    "name": "ipython",
    "version": 3
   },
   "file_extension": ".py",
   "mimetype": "text/x-python",
   "name": "python",
   "nbconvert_exporter": "python",
   "pygments_lexer": "ipython3",
   "version": "3.8.8"
  }
 },
 "nbformat": 4,
 "nbformat_minor": 5
}
