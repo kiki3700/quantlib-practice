{
 "cells": [
  {
   "cell_type": "code",
   "execution_count": 1,
   "id": "427b0690",
   "metadata": {},
   "outputs": [],
   "source": [
    "import QuantLib as ql"
   ]
  },
  {
   "cell_type": "code",
   "execution_count": 7,
   "id": "8b59159f",
   "metadata": {},
   "outputs": [],
   "source": [
    "effectiveDate = ql.Date(1,1,2020)\n",
    "maturityDate = ql.Date(31,12,2020)\n",
    "tenor = ql.Period(3,ql.Months)\n",
    "kr = ql.SouthKorea()\n",
    "convention = ql.ModifiedFollowing\n",
    "dateGeneration = ql.DateGeneration.Backward\n",
    "endOfMonth = False\n",
    "\n",
    "schedule = ql.Schedule(effectiveDate,\n",
    "                      maturityDate,\n",
    "                      tenor,\n",
    "                      kr,\n",
    "                      convention,\n",
    "                      convention,\n",
    "                      dateGeneration,\n",
    "                      endOfMonth)"
   ]
  },
  {
   "cell_type": "code",
   "execution_count": null,
   "id": "e67c7a88",
   "metadata": {},
   "outputs": [],
   "source": []
  },
  {
   "cell_type": "code",
   "execution_count": null,
   "id": "b185bec9",
   "metadata": {},
   "outputs": [],
   "source": []
  }
 ],
 "metadata": {
  "kernelspec": {
   "display_name": "Python 3",
   "language": "python",
   "name": "python3"
  },
  "language_info": {
   "codemirror_mode": {
    "name": "ipython",
    "version": 3
   },
   "file_extension": ".py",
   "mimetype": "text/x-python",
   "name": "python",
   "nbconvert_exporter": "python",
   "pygments_lexer": "ipython3",
   "version": "3.8.8"
  }
 },
 "nbformat": 4,
 "nbformat_minor": 5
}
