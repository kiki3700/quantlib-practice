{
 "cells": [
  {
   "cell_type": "code",
   "execution_count": 1,
   "id": "39b991a5",
   "metadata": {},
   "outputs": [],
   "source": [
    "import QuantLib as ql"
   ]
  },
  {
   "cell_type": "code",
   "execution_count": 3,
   "id": "cdaf3353",
   "metadata": {},
   "outputs": [
    {
     "name": "stdout",
     "output_type": "stream",
     "text": [
      "136\n"
     ]
    }
   ],
   "source": [
    "act360 = ql.Actual360()\n",
    "date1= ql.Date(28,7,2020)\n",
    "date2 = ql.Date(11,12,2020)\n",
    "print(act360.dayCount(date1, date2))"
   ]
  },
  {
   "cell_type": "code",
   "execution_count": 4,
   "id": "8f7a4d8c",
   "metadata": {},
   "outputs": [
    {
     "name": "stdout",
     "output_type": "stream",
     "text": [
      "0.37777777777777777\n"
     ]
    }
   ],
   "source": [
    "act360 = ql.Actual360()\n",
    "date1= ql.Date(28,7,2020)\n",
    "date2 = ql.Date(11,12,2020)\n",
    "print(act360.yearFraction(date1, date2))"
   ]
  },
  {
   "cell_type": "code",
   "execution_count": 8,
   "id": "4ab0e448",
   "metadata": {},
   "outputs": [
    {
     "name": "stdout",
     "output_type": "stream",
     "text": [
      "365\n"
     ]
    }
   ],
   "source": [
    "actact = ql.ActualActual()\n",
    "date1= ql.Date(1,1,2020)\n",
    "date2 = ql.Date(31,12,2020)\n",
    "print(actact.dayCount(date1,date2))"
   ]
  },
  {
   "cell_type": "code",
   "execution_count": 9,
   "id": "f4fd7355",
   "metadata": {},
   "outputs": [
    {
     "data": {
      "text/plain": [
       "31"
      ]
     },
     "execution_count": 9,
     "metadata": {},
     "output_type": "execute_result"
    }
   ],
   "source": [
    "act360 = ql.Actual360()\n",
    "date1 = ql.Date(5,8,2020)\n",
    "date2 = ql.Date(5,9,2020)\n",
    "act360.dayCount(date1,date2)"
   ]
  },
  {
   "cell_type": "code",
   "execution_count": 12,
   "id": "8df55d04",
   "metadata": {},
   "outputs": [
    {
     "data": {
      "text/plain": [
       "0.1917808219178082"
      ]
     },
     "execution_count": 12,
     "metadata": {},
     "output_type": "execute_result"
    }
   ],
   "source": [
    "act365 = ql.Actual365Fixed()\n",
    "date1 = ql.Date(1,10,2020)\n",
    "date2=ql.Date(10,12,2020)\n",
    "act365.yearFraction(date1,date2)"
   ]
  },
  {
   "cell_type": "code",
   "execution_count": null,
   "id": "103c8e41",
   "metadata": {},
   "outputs": [],
   "source": []
  }
 ],
 "metadata": {
  "kernelspec": {
   "display_name": "Python 3",
   "language": "python",
   "name": "python3"
  },
  "language_info": {
   "codemirror_mode": {
    "name": "ipython",
    "version": 3
   },
   "file_extension": ".py",
   "mimetype": "text/x-python",
   "name": "python",
   "nbconvert_exporter": "python",
   "pygments_lexer": "ipython3",
   "version": "3.8.8"
  }
 },
 "nbformat": 4,
 "nbformat_minor": 5
}
