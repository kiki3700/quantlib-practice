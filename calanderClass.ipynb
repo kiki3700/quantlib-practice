{
 "cells": [
  {
   "cell_type": "code",
   "execution_count": 2,
   "id": "424cd402",
   "metadata": {},
   "outputs": [],
   "source": [
    "import QuantLib as ql"
   ]
  },
  {
   "cell_type": "code",
   "execution_count": 5,
   "id": "f6e69851",
   "metadata": {},
   "outputs": [],
   "source": [
    "korea = ql.SouthKorea()\n",
    "us = ql.UnitedStates()\n",
    "uk = ql.UnitedKingdom()\n",
    "hk = ql.HongKong()\n",
    "eu = ql.TARGET()"
   ]
  },
  {
   "cell_type": "code",
   "execution_count": 6,
   "id": "c510b31f",
   "metadata": {},
   "outputs": [
    {
     "name": "stdout",
     "output_type": "stream",
     "text": [
      "South-Korea exchange calendar\n"
     ]
    }
   ],
   "source": [
    "print(korea)"
   ]
  },
  {
   "cell_type": "code",
   "execution_count": 7,
   "id": "4e1eb009",
   "metadata": {},
   "outputs": [
    {
     "name": "stdout",
     "output_type": "stream",
     "text": [
      "(Date(1,1,2020), Date(24,1,2020), Date(27,1,2020), Date(15,4,2020), Date(30,4,2020), Date(1,5,2020), Date(5,5,2020), Date(17,8,2020), Date(30,9,2020), Date(1,10,2020), Date(2,10,2020), Date(9,10,2020), Date(25,12,2020), Date(31,12,2020))\n"
     ]
    }
   ],
   "source": [
    "date1 = ql.Date(1,1,2020)\n",
    "date2 = ql.Date(31,12,2020)\n",
    "print(korea.holidayList(date1,date2))"
   ]
  },
  {
   "cell_type": "code",
   "execution_count": 9,
   "id": "8a2e323c",
   "metadata": {},
   "outputs": [
    {
     "data": {
      "text/plain": [
       "(Date(1,1,2020),\n",
       " Date(20,1,2020),\n",
       " Date(24,1,2020),\n",
       " Date(27,1,2020),\n",
       " Date(28,1,2020),\n",
       " Date(17,2,2020),\n",
       " Date(10,4,2020),\n",
       " Date(13,4,2020),\n",
       " Date(15,4,2020),\n",
       " Date(30,4,2020),\n",
       " Date(1,5,2020),\n",
       " Date(5,5,2020),\n",
       " Date(25,5,2020),\n",
       " Date(25,6,2020),\n",
       " Date(1,7,2020),\n",
       " Date(3,7,2020),\n",
       " Date(17,8,2020),\n",
       " Date(7,9,2020),\n",
       " Date(30,9,2020),\n",
       " Date(1,10,2020),\n",
       " Date(2,10,2020),\n",
       " Date(9,10,2020),\n",
       " Date(12,10,2020),\n",
       " Date(26,10,2020),\n",
       " Date(11,11,2020),\n",
       " Date(26,11,2020),\n",
       " Date(25,12,2020),\n",
       " Date(31,12,2020))"
      ]
     },
     "execution_count": 9,
     "metadata": {},
     "output_type": "execute_result"
    }
   ],
   "source": [
    "ql.JointCalendar(korea,hk,us).holidayList(date1,date2)"
   ]
  },
  {
   "cell_type": "code",
   "execution_count": null,
   "id": "da4b71e2",
   "metadata": {},
   "outputs": [],
   "source": []
  }
 ],
 "metadata": {
  "kernelspec": {
   "display_name": "Python 3",
   "language": "python",
   "name": "python3"
  },
  "language_info": {
   "codemirror_mode": {
    "name": "ipython",
    "version": 3
   },
   "file_extension": ".py",
   "mimetype": "text/x-python",
   "name": "python",
   "nbconvert_exporter": "python",
   "pygments_lexer": "ipython3",
   "version": "3.8.8"
  }
 },
 "nbformat": 4,
 "nbformat_minor": 5
}
