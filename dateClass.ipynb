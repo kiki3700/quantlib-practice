{
 "cells": [
  {
   "cell_type": "code",
   "execution_count": 1,
   "id": "e209d14b",
   "metadata": {},
   "outputs": [],
   "source": [
    "import QuantLib as ql"
   ]
  },
  {
   "cell_type": "code",
   "execution_count": 9,
   "id": "845b1677",
   "metadata": {},
   "outputs": [
    {
     "data": {
      "text/plain": [
       "279"
      ]
     },
     "execution_count": 9,
     "metadata": {},
     "output_type": "execute_result"
    }
   ],
   "source": [
    "ql.Date(5,10,2020).dayOfYear()"
   ]
  },
  {
   "cell_type": "code",
   "execution_count": 17,
   "id": "416cce93",
   "metadata": {},
   "outputs": [
    {
     "data": {
      "text/plain": [
       "Date(9,8,2020)"
      ]
     },
     "execution_count": 17,
     "metadata": {},
     "output_type": "execute_result"
    }
   ],
   "source": [
    "ql.Date().nextWeekday(ql.Date(3,8,2020),1)"
   ]
  },
  {
   "cell_type": "code",
   "execution_count": 18,
   "id": "0766e419",
   "metadata": {},
   "outputs": [
    {
     "data": {
      "text/plain": [
       "Date(9,12,2020)"
      ]
     },
     "execution_count": 18,
     "metadata": {},
     "output_type": "execute_result"
    }
   ],
   "source": [
    "ql.Date().nthWeekday(2,4,12,2020)"
   ]
  },
  {
   "cell_type": "code",
   "execution_count": 15,
   "id": "7fd8dae5",
   "metadata": {},
   "outputs": [
    {
     "data": {
      "text/plain": [
       "5"
      ]
     },
     "execution_count": 15,
     "metadata": {},
     "output_type": "execute_result"
    }
   ],
   "source": [
    "ql.Date().todaysDate().weekday()"
   ]
  },
  {
   "cell_type": "code",
   "execution_count": 16,
   "id": "98f46632",
   "metadata": {},
   "outputs": [
    {
     "name": "stdout",
     "output_type": "stream",
     "text": [
      "2\n"
     ]
    }
   ],
   "source": [
    "mon = ql.Date(12,7,2021).weekday()\n",
    "print(mon)"
   ]
  },
  {
   "cell_type": "markdown",
   "id": "018949e0",
   "metadata": {},
   "source": [
    "three_month = ql.Period(3,ql.Month)"
   ]
  },
  {
   "cell_type": "code",
   "execution_count": 20,
   "id": "f4fa27e7",
   "metadata": {},
   "outputs": [
    {
     "name": "stdout",
     "output_type": "stream",
     "text": [
      "3M\n"
     ]
    }
   ],
   "source": [
    "three_month = ql.Period(3,ql.Months)\n",
    "print(three_month)"
   ]
  },
  {
   "cell_type": "code",
   "execution_count": 24,
   "id": "7f746757",
   "metadata": {},
   "outputs": [
    {
     "name": "stdout",
     "output_type": "stream",
     "text": [
      "2W\n"
     ]
    }
   ],
   "source": [
    "bi_week = ql.Period(2, ql.Weeks)\n",
    "print(bi_week)"
   ]
  },
  {
   "cell_type": "code",
   "execution_count": 25,
   "id": "10038f9e",
   "metadata": {},
   "outputs": [
    {
     "data": {
      "text/plain": [
       "Period(\"6M\")"
      ]
     },
     "execution_count": 25,
     "metadata": {},
     "output_type": "execute_result"
    }
   ],
   "source": [
    "ql.Period(ql.Semiannual)"
   ]
  },
  {
   "cell_type": "code",
   "execution_count": 30,
   "id": "f448902b",
   "metadata": {},
   "outputs": [
    {
     "name": "stdout",
     "output_type": "stream",
     "text": [
      "62\n"
     ]
    }
   ],
   "source": [
    "date1=ql.Date(1,7,2020)\n",
    "date2= ql.Date(1,9,2020)\n",
    "print(date2-date1)"
   ]
  },
  {
   "cell_type": "code",
   "execution_count": 28,
   "id": "959a7c08",
   "metadata": {},
   "outputs": [
    {
     "name": "stdout",
     "output_type": "stream",
     "text": [
      "October 27th, 2020\n"
     ]
    }
   ],
   "source": [
    "date = ql.Date(27,7,2020)+ql.Period(ql.Quarterly)\n",
    "print(date)"
   ]
  },
  {
   "cell_type": "code",
   "execution_count": 29,
   "id": "ac3f2cd5",
   "metadata": {},
   "outputs": [
    {
     "name": "stdout",
     "output_type": "stream",
     "text": [
      "July 6th, 2020\n"
     ]
    }
   ],
   "source": [
    "date = ql.Date(27,7,2020)-ql.Period(3,ql.Weeks)\n",
    "print(date)"
   ]
  },
  {
   "cell_type": "code",
   "execution_count": null,
   "id": "0cb51998",
   "metadata": {},
   "outputs": [],
   "source": []
  }
 ],
 "metadata": {
  "kernelspec": {
   "display_name": "Python 3",
   "language": "python",
   "name": "python3"
  },
  "language_info": {
   "codemirror_mode": {
    "name": "ipython",
    "version": 3
   },
   "file_extension": ".py",
   "mimetype": "text/x-python",
   "name": "python",
   "nbconvert_exporter": "python",
   "pygments_lexer": "ipython3",
   "version": "3.8.8"
  }
 },
 "nbformat": 4,
 "nbformat_minor": 5
}
